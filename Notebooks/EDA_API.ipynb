{
 "cells": [
  {
   "cell_type": "code",
   "execution_count": 1,
   "metadata": {},
   "outputs": [],
   "source": [
    "#Importamos las librerias necesarias\n",
    "\n",
    "import pandas as pd\n",
    "import seaborn as sns\n",
    "import matplotlib.pyplot as plt\n",
    "\n",
    "import collections\n",
    "import itertools"
   ]
  },
  {
   "cell_type": "code",
   "execution_count": 13,
   "metadata": {},
   "outputs": [],
   "source": [
    "#Cargamos los dataframes de los tweets y los autores\n",
    "\n",
    "df = pd.read_csv('Data/clean1_data.csv', index_col=0)\n",
    "\n",
    "df_author = pd.read_csv('Data/author.csv', index_col=0)"
   ]
  },
  {
   "cell_type": "markdown",
   "metadata": {},
   "source": [
    "- ¿Cuál es el tweet con mayor repercusión social? \n",
    "- ¿Cuál es el usuario que más menciona a la escuela? \n",
    "- ¿En qué mes se concentra el mayor número de tweets?\n",
    "- ¿Qué palabras son más frecuentes?\n",
    "- ¿Qué tipo de correlación matemática encuentras entre las métricas públicas?"
   ]
  },
  {
   "cell_type": "code",
   "execution_count": 3,
   "metadata": {},
   "outputs": [
    {
     "data": {
      "text/html": [
       "<div>\n",
       "<style scoped>\n",
       "    .dataframe tbody tr th:only-of-type {\n",
       "        vertical-align: middle;\n",
       "    }\n",
       "\n",
       "    .dataframe tbody tr th {\n",
       "        vertical-align: top;\n",
       "    }\n",
       "\n",
       "    .dataframe thead th {\n",
       "        text-align: right;\n",
       "    }\n",
       "</style>\n",
       "<table border=\"1\" class=\"dataframe\">\n",
       "  <thead>\n",
       "    <tr style=\"text-align: right;\">\n",
       "      <th></th>\n",
       "      <th>author_id</th>\n",
       "      <th>text</th>\n",
       "      <th>created_at</th>\n",
       "      <th>id</th>\n",
       "      <th>retweet_count</th>\n",
       "      <th>reply_count</th>\n",
       "      <th>like_count</th>\n",
       "      <th>quote_count</th>\n",
       "    </tr>\n",
       "  </thead>\n",
       "  <tbody>\n",
       "    <tr>\n",
       "      <th>0</th>\n",
       "      <td>1088261225153060864</td>\n",
       "      <td>🧑‍🎓Los emprendedores y profesionales digitales...</td>\n",
       "      <td>2022-07-13T14:45:06.000Z</td>\n",
       "      <td>1547230643561664515</td>\n",
       "      <td>1</td>\n",
       "      <td>0</td>\n",
       "      <td>2</td>\n",
       "      <td>0</td>\n",
       "    </tr>\n",
       "    <tr>\n",
       "      <th>1</th>\n",
       "      <td>1232276995796586499</td>\n",
       "      <td>Hoy hemos tenido una súper visita a nuestras o...</td>\n",
       "      <td>2022-07-13T13:22:40.000Z</td>\n",
       "      <td>1547209900874506241</td>\n",
       "      <td>1</td>\n",
       "      <td>0</td>\n",
       "      <td>3</td>\n",
       "      <td>0</td>\n",
       "    </tr>\n",
       "    <tr>\n",
       "      <th>2</th>\n",
       "      <td>1162694149956603904</td>\n",
       "      <td>¡Descubre la experiencia de Dani! ▶ Dani estud...</td>\n",
       "      <td>2022-07-12T11:22:45.000Z</td>\n",
       "      <td>1546817334882476032</td>\n",
       "      <td>2</td>\n",
       "      <td>0</td>\n",
       "      <td>0</td>\n",
       "      <td>0</td>\n",
       "    </tr>\n",
       "    <tr>\n",
       "      <th>3</th>\n",
       "      <td>1085383992</td>\n",
       "      <td>#VentureCapital/#PrivateEquity: @TheBridge_Tec...</td>\n",
       "      <td>2022-07-11T07:34:21.000Z</td>\n",
       "      <td>1546397466517540866</td>\n",
       "      <td>0</td>\n",
       "      <td>0</td>\n",
       "      <td>0</td>\n",
       "      <td>0</td>\n",
       "    </tr>\n",
       "    <tr>\n",
       "      <th>4</th>\n",
       "      <td>27890913</td>\n",
       "      <td>#Inversiones 💰💰\\n\\n@TheBridge_Tech ha cerrado ...</td>\n",
       "      <td>2022-07-07T10:16:04.000Z</td>\n",
       "      <td>1544988613129261056</td>\n",
       "      <td>0</td>\n",
       "      <td>0</td>\n",
       "      <td>0</td>\n",
       "      <td>0</td>\n",
       "    </tr>\n",
       "  </tbody>\n",
       "</table>\n",
       "</div>"
      ],
      "text/plain": [
       "             author_id                                               text  \\\n",
       "0  1088261225153060864  🧑‍🎓Los emprendedores y profesionales digitales...   \n",
       "1  1232276995796586499  Hoy hemos tenido una súper visita a nuestras o...   \n",
       "2  1162694149956603904  ¡Descubre la experiencia de Dani! ▶ Dani estud...   \n",
       "3           1085383992  #VentureCapital/#PrivateEquity: @TheBridge_Tec...   \n",
       "4             27890913  #Inversiones 💰💰\\n\\n@TheBridge_Tech ha cerrado ...   \n",
       "\n",
       "                 created_at                   id  retweet_count  reply_count  \\\n",
       "0  2022-07-13T14:45:06.000Z  1547230643561664515              1            0   \n",
       "1  2022-07-13T13:22:40.000Z  1547209900874506241              1            0   \n",
       "2  2022-07-12T11:22:45.000Z  1546817334882476032              2            0   \n",
       "3  2022-07-11T07:34:21.000Z  1546397466517540866              0            0   \n",
       "4  2022-07-07T10:16:04.000Z  1544988613129261056              0            0   \n",
       "\n",
       "   like_count  quote_count  \n",
       "0           2            0  \n",
       "1           3            0  \n",
       "2           0            0  \n",
       "3           0            0  \n",
       "4           0            0  "
      ]
     },
     "execution_count": 3,
     "metadata": {},
     "output_type": "execute_result"
    }
   ],
   "source": [
    "df.head()"
   ]
  },
  {
   "cell_type": "code",
   "execution_count": 32,
   "metadata": {},
   "outputs": [
    {
     "data": {
      "text/html": [
       "<div>\n",
       "<style scoped>\n",
       "    .dataframe tbody tr th:only-of-type {\n",
       "        vertical-align: middle;\n",
       "    }\n",
       "\n",
       "    .dataframe tbody tr th {\n",
       "        vertical-align: top;\n",
       "    }\n",
       "\n",
       "    .dataframe thead th {\n",
       "        text-align: right;\n",
       "    }\n",
       "</style>\n",
       "<table border=\"1\" class=\"dataframe\">\n",
       "  <thead>\n",
       "    <tr style=\"text-align: right;\">\n",
       "      <th></th>\n",
       "      <th>id</th>\n",
       "      <th>name</th>\n",
       "      <th>username</th>\n",
       "    </tr>\n",
       "  </thead>\n",
       "  <tbody>\n",
       "    <tr>\n",
       "      <th>0</th>\n",
       "      <td>1088261225153060864</td>\n",
       "      <td>GoHub Ventures</td>\n",
       "      <td>GoHubVentures</td>\n",
       "    </tr>\n",
       "    <tr>\n",
       "      <th>1</th>\n",
       "      <td>1232276995796586499</td>\n",
       "      <td>Ines Calabuig</td>\n",
       "      <td>InesCalabuig2</td>\n",
       "    </tr>\n",
       "    <tr>\n",
       "      <th>2</th>\n",
       "      <td>1162694149956603904</td>\n",
       "      <td>The Bridge</td>\n",
       "      <td>TheBridge_Tech</td>\n",
       "    </tr>\n",
       "    <tr>\n",
       "      <th>3</th>\n",
       "      <td>1085383992</td>\n",
       "      <td>Webcapitalriesgo.com</td>\n",
       "      <td>WCapitalRiesgo</td>\n",
       "    </tr>\n",
       "    <tr>\n",
       "      <th>4</th>\n",
       "      <td>27890913</td>\n",
       "      <td>El Referente</td>\n",
       "      <td>ElReferente</td>\n",
       "    </tr>\n",
       "  </tbody>\n",
       "</table>\n",
       "</div>"
      ],
      "text/plain": [
       "                    id                  name        username\n",
       "0  1088261225153060864        GoHub Ventures   GoHubVentures\n",
       "1  1232276995796586499         Ines Calabuig   InesCalabuig2\n",
       "2  1162694149956603904            The Bridge  TheBridge_Tech\n",
       "3           1085383992  Webcapitalriesgo.com  WCapitalRiesgo\n",
       "4             27890913          El Referente     ElReferente"
      ]
     },
     "execution_count": 32,
     "metadata": {},
     "output_type": "execute_result"
    }
   ],
   "source": [
    "df_author.head()"
   ]
  },
  {
   "cell_type": "code",
   "execution_count": 4,
   "metadata": {},
   "outputs": [
    {
     "data": {
      "text/plain": [
       "125    36\n",
       "23     23\n",
       "86     17\n",
       "28     16\n",
       "170    14\n",
       "       ..\n",
       "188     0\n",
       "230     0\n",
       "167     0\n",
       "206     0\n",
       "179     0\n",
       "Name: like_count, Length: 256, dtype: int64"
      ]
     },
     "execution_count": 4,
     "metadata": {},
     "output_type": "execute_result"
    }
   ],
   "source": [
    "# 1- ¿Cuál es el tweet con mayor repercusión social? \n",
    "\n",
    "df.like_count.sort_values(ascending=False)\n",
    "\n",
    "# El tweet con mas repercusión social es el que mas likes tiene en este caso el id correspondiente a 125"
   ]
  },
  {
   "cell_type": "code",
   "execution_count": 6,
   "metadata": {},
   "outputs": [
    {
     "name": "stdout",
     "output_type": "stream",
     "text": [
      "🚨27/7 - 7:30PM - 🎙️PODCAST PRESENCIAL\n",
      "📌MADRID, @TheBridge_Tech (Recoletos,15)\n",
      "🤟🏻SÓLO 6⃣0⃣ ENTRADAS\n",
      "\n",
      "🔞🍆🔝 \"EL SENTIDO DE LA VIDA YA NO ES 42\"\n",
      "\n",
      "🔗 https://t.co/bPRHcq3PCo\n",
      "\n",
      "Invitado: @GuillermoDeHaro con @Recuenco ha escrito \"El pequeño libro de la filosofía estoica\" de @alienta\n",
      "El sentido de la vida ya no es 42 -- Light Mental edición especial @TheBridge_Tech https://t.co/z7hOVln8Bp\n"
     ]
    },
    {
     "data": {
      "text/plain": [
       "'🕣 TIC, TAC: MAÑANA os vemos a todos a las 7.30pm en nuestro evento en directo en MADRID en @TheBridge_Tech \\n\\n🚨Para los que no vayáis, TRANQUILOS, seguramente el martes lo emitamos para todos vosotros :D https://t.co/fqaYsbyxl7'"
      ]
     },
     "execution_count": 6,
     "metadata": {},
     "output_type": "execute_result"
    }
   ],
   "source": [
    "print(df.loc[125, 'text']) # Primer tweet con mas likes\n",
    "print(df.loc[23, 'text']) # Segundo tweet con mas likes\n",
    "df.loc[86, 'text'] # Tercer tweet con mas likes\n"
   ]
  },
  {
   "cell_type": "code",
   "execution_count": 8,
   "metadata": {},
   "outputs": [
    {
     "data": {
      "text/plain": [
       "author_id\n",
       "1255794072280842240    23\n",
       "1162694149956603904    13\n",
       "541058739               9\n",
       "1493264171705765890     9\n",
       "212364786               7\n",
       "                       ..\n",
       "190658967               1\n",
       "183583012               1\n",
       "175063066               1\n",
       "148160316               1\n",
       "1528649918306557952     1\n",
       "Name: id, Length: 131, dtype: int64"
      ]
     },
     "execution_count": 8,
     "metadata": {},
     "output_type": "execute_result"
    }
   ],
   "source": [
    "# 2- ¿Cuál es el usuario que más menciona a la escuela? \n",
    "\n",
    "df.groupby('author_id').count().loc[:,'id'].sort_values(ascending=False)\n",
    "\n",
    "# El usuario con mas menciones a la escuela es el que tiene el id 1255794072280842240    "
   ]
  },
  {
   "cell_type": "code",
   "execution_count": 21,
   "metadata": {},
   "outputs": [
    {
     "data": {
      "text/html": [
       "<div>\n",
       "<style scoped>\n",
       "    .dataframe tbody tr th:only-of-type {\n",
       "        vertical-align: middle;\n",
       "    }\n",
       "\n",
       "    .dataframe tbody tr th {\n",
       "        vertical-align: top;\n",
       "    }\n",
       "\n",
       "    .dataframe thead th {\n",
       "        text-align: right;\n",
       "    }\n",
       "</style>\n",
       "<table border=\"1\" class=\"dataframe\">\n",
       "  <thead>\n",
       "    <tr style=\"text-align: right;\">\n",
       "      <th></th>\n",
       "      <th>id</th>\n",
       "      <th>name</th>\n",
       "      <th>username</th>\n",
       "    </tr>\n",
       "  </thead>\n",
       "  <tbody>\n",
       "    <tr>\n",
       "      <th>18</th>\n",
       "      <td>1255794072280842240</td>\n",
       "      <td>Heavy Mental</td>\n",
       "      <td>HeavyMental_es</td>\n",
       "    </tr>\n",
       "  </tbody>\n",
       "</table>\n",
       "</div>"
      ],
      "text/plain": [
       "                     id          name        username\n",
       "18  1255794072280842240  Heavy Mental  HeavyMental_es"
      ]
     },
     "execution_count": 21,
     "metadata": {},
     "output_type": "execute_result"
    }
   ],
   "source": [
    "(df_author.loc[df_author['id'] == 1255794072280842240, : ]) # Comprobamos el nombre del usuario con ese id, que es HeavyMental"
   ]
  },
  {
   "cell_type": "code",
   "execution_count": 23,
   "metadata": {},
   "outputs": [],
   "source": [
    "import datetime as dt #importamos el datetime"
   ]
  },
  {
   "cell_type": "code",
   "execution_count": 26,
   "metadata": {},
   "outputs": [
    {
     "data": {
      "text/html": [
       "<div>\n",
       "<style scoped>\n",
       "    .dataframe tbody tr th:only-of-type {\n",
       "        vertical-align: middle;\n",
       "    }\n",
       "\n",
       "    .dataframe tbody tr th {\n",
       "        vertical-align: top;\n",
       "    }\n",
       "\n",
       "    .dataframe thead th {\n",
       "        text-align: right;\n",
       "    }\n",
       "</style>\n",
       "<table border=\"1\" class=\"dataframe\">\n",
       "  <thead>\n",
       "    <tr style=\"text-align: right;\">\n",
       "      <th></th>\n",
       "      <th>author_id</th>\n",
       "      <th>text</th>\n",
       "      <th>created_at</th>\n",
       "      <th>id</th>\n",
       "      <th>retweet_count</th>\n",
       "      <th>reply_count</th>\n",
       "      <th>like_count</th>\n",
       "      <th>quote_count</th>\n",
       "    </tr>\n",
       "    <tr>\n",
       "      <th>months</th>\n",
       "      <th></th>\n",
       "      <th></th>\n",
       "      <th></th>\n",
       "      <th></th>\n",
       "      <th></th>\n",
       "      <th></th>\n",
       "      <th></th>\n",
       "      <th></th>\n",
       "    </tr>\n",
       "  </thead>\n",
       "  <tbody>\n",
       "    <tr>\n",
       "      <th>6</th>\n",
       "      <td>118</td>\n",
       "      <td>118</td>\n",
       "      <td>118</td>\n",
       "      <td>118</td>\n",
       "      <td>118</td>\n",
       "      <td>118</td>\n",
       "      <td>118</td>\n",
       "      <td>118</td>\n",
       "    </tr>\n",
       "    <tr>\n",
       "      <th>4</th>\n",
       "      <td>41</td>\n",
       "      <td>41</td>\n",
       "      <td>41</td>\n",
       "      <td>41</td>\n",
       "      <td>41</td>\n",
       "      <td>41</td>\n",
       "      <td>41</td>\n",
       "      <td>41</td>\n",
       "    </tr>\n",
       "    <tr>\n",
       "      <th>5</th>\n",
       "      <td>38</td>\n",
       "      <td>38</td>\n",
       "      <td>38</td>\n",
       "      <td>38</td>\n",
       "      <td>38</td>\n",
       "      <td>38</td>\n",
       "      <td>38</td>\n",
       "      <td>38</td>\n",
       "    </tr>\n",
       "    <tr>\n",
       "      <th>2</th>\n",
       "      <td>17</td>\n",
       "      <td>17</td>\n",
       "      <td>17</td>\n",
       "      <td>17</td>\n",
       "      <td>17</td>\n",
       "      <td>17</td>\n",
       "      <td>17</td>\n",
       "      <td>17</td>\n",
       "    </tr>\n",
       "    <tr>\n",
       "      <th>3</th>\n",
       "      <td>15</td>\n",
       "      <td>15</td>\n",
       "      <td>15</td>\n",
       "      <td>15</td>\n",
       "      <td>15</td>\n",
       "      <td>15</td>\n",
       "      <td>15</td>\n",
       "      <td>15</td>\n",
       "    </tr>\n",
       "    <tr>\n",
       "      <th>1</th>\n",
       "      <td>14</td>\n",
       "      <td>14</td>\n",
       "      <td>14</td>\n",
       "      <td>14</td>\n",
       "      <td>14</td>\n",
       "      <td>14</td>\n",
       "      <td>14</td>\n",
       "      <td>14</td>\n",
       "    </tr>\n",
       "    <tr>\n",
       "      <th>7</th>\n",
       "      <td>13</td>\n",
       "      <td>13</td>\n",
       "      <td>13</td>\n",
       "      <td>13</td>\n",
       "      <td>13</td>\n",
       "      <td>13</td>\n",
       "      <td>13</td>\n",
       "      <td>13</td>\n",
       "    </tr>\n",
       "  </tbody>\n",
       "</table>\n",
       "</div>"
      ],
      "text/plain": [
       "        author_id  text  created_at   id  retweet_count  reply_count  \\\n",
       "months                                                                 \n",
       "6             118   118         118  118            118          118   \n",
       "4              41    41          41   41             41           41   \n",
       "5              38    38          38   38             38           38   \n",
       "2              17    17          17   17             17           17   \n",
       "3              15    15          15   15             15           15   \n",
       "1              14    14          14   14             14           14   \n",
       "7              13    13          13   13             13           13   \n",
       "\n",
       "        like_count  quote_count  \n",
       "months                           \n",
       "6              118          118  \n",
       "4               41           41  \n",
       "5               38           38  \n",
       "2               17           17  \n",
       "3               15           15  \n",
       "1               14           14  \n",
       "7               13           13  "
      ]
     },
     "execution_count": 26,
     "metadata": {},
     "output_type": "execute_result"
    }
   ],
   "source": [
    "# 3- ¿En qué mes se concentra el mayor número de tweets?\n",
    "df.head()\n",
    "\n",
    "df['created_at'] = pd.to_datetime(df.created_at)\n",
    "\n",
    "df['months'] = df.created_at.dt.month\n",
    "\n",
    "df.groupby('months').count().sort_values(by='text', ascending=False)\n",
    "\n",
    "# El mes con mas menciones fue el mes de Junio"
   ]
  },
  {
   "cell_type": "code",
   "execution_count": 27,
   "metadata": {},
   "outputs": [],
   "source": [
    "# 4- ¿Qué palabras son más frecuentes?\n",
    "\n",
    "df['word_list'] = df.text.str.lower().str.split()\n"
   ]
  },
  {
   "cell_type": "code",
   "execution_count": 28,
   "metadata": {},
   "outputs": [],
   "source": [
    "word_list = [x for x in df.word_list]\n",
    "\n",
    "all_words_no_urls = list(itertools.chain(*word_list))\n"
   ]
  },
  {
   "cell_type": "code",
   "execution_count": 29,
   "metadata": {},
   "outputs": [],
   "source": [
    "counts_no_urls = collections.Counter(all_words_no_urls)"
   ]
  },
  {
   "cell_type": "code",
   "execution_count": 30,
   "metadata": {},
   "outputs": [
    {
     "data": {
      "text/plain": [
       "[('de', 311),\n",
       " ('@thebridge_tech', 233),\n",
       " ('en', 182),\n",
       " ('la', 146),\n",
       " ('el', 124),\n",
       " ('y', 119),\n",
       " ('a', 113),\n",
       " ('que', 112),\n",
       " ('@recuenco', 84),\n",
       " ('@guillermodeharo', 81),\n",
       " ('@heavymental_es', 79),\n",
       " ('con', 66),\n",
       " ('las', 53),\n",
       " ('para', 51),\n",
       " ('por', 49),\n",
       " ('@alienta', 45),\n",
       " ('un', 44),\n",
       " ('no', 40),\n",
       " ('del', 39),\n",
       " ('los', 38),\n",
       " ('lo', 36),\n",
       " ('@_miki', 34),\n",
       " ('@davidalayon', 33),\n",
       " ('una', 29),\n",
       " ('es', 28),\n",
       " ('nos', 26),\n",
       " ('si', 22),\n",
       " ('se', 21),\n",
       " ('gracias', 20),\n",
       " ('sobre', 20),\n",
       " ('ya', 19),\n",
       " ('su', 16),\n",
       " ('pero', 15),\n",
       " ('te', 15),\n",
       " ('más', 14),\n",
       " ('me', 14),\n",
       " ('todos', 14),\n",
       " ('#bootcamp', 12),\n",
       " ('@thebridge_tech.', 12),\n",
       " ('presentación', 12),\n",
       " ('hay', 12),\n",
       " ('@mulder01198676', 12),\n",
       " ('talento', 11),\n",
       " ('al', 11),\n",
       " ('digital', 11),\n",
       " ('libro', 11),\n",
       " ('este', 11),\n",
       " ('@heavymental', 11),\n",
       " ('@arey', 11),\n",
       " ('hoy', 10),\n",
       " ('todo', 10),\n",
       " ('the', 10),\n",
       " ('@nodosenlared', 10),\n",
       " ('web', 10),\n",
       " ('becas', 10),\n",
       " ('junto', 10),\n",
       " ('futuro', 9),\n",
       " ('han', 9),\n",
       " ('primera', 9),\n",
       " ('os', 9),\n",
       " ('nuestro', 9),\n",
       " ('@gonzalomartin', 9),\n",
       " ('inteligencia', 9),\n",
       " ('esta', 8),\n",
       " ('vida', 8),\n",
       " ('entradas', 8),\n",
       " ('son', 8),\n",
       " ('muy', 8),\n",
       " ('@tiscar', 8),\n",
       " ('personas', 8),\n",
       " ('@globant', 8),\n",
       " ('â\\x96ªï¸\\x8f', 8),\n",
       " ('qué', 7),\n",
       " ('aceleradora', 7),\n",
       " ('sus', 7),\n",
       " ('ha', 7),\n",
       " ('&amp;', 7),\n",
       " ('@thebridge_tech,', 7),\n",
       " ('desde', 7),\n",
       " ('hacer', 7),\n",
       " ('to', 7),\n",
       " ('yo', 7),\n",
       " ('@moquintana', 7),\n",
       " ('esa', 7),\n",
       " ('mi', 7),\n",
       " ('#mujerytecnología', 7),\n",
       " ('desarrollo', 7),\n",
       " ('full-stack', 7),\n",
       " ('alumnos', 6),\n",
       " ('hemos', 6),\n",
       " ('nuevo', 6),\n",
       " ('aquí', 6),\n",
       " ('nuevas', 6),\n",
       " (';)', 6),\n",
       " ('he', 6),\n",
       " (',', 6),\n",
       " ('@paumugarra', 6),\n",
       " ('tenemos', 6),\n",
       " ('martes', 6),\n",
       " ('vemos', 6)]"
      ]
     },
     "execution_count": 30,
     "metadata": {},
     "output_type": "execute_result"
    }
   ],
   "source": [
    "counts_no_urls.most_common(100)\n",
    "\n",
    "# Las 10 palabras mas frecuentes son: bootcamp,thebridge_tech, presentación, talento, digital, libro, web, becas, futuro, inteligencia"
   ]
  },
  {
   "cell_type": "code",
   "execution_count": 31,
   "metadata": {},
   "outputs": [
    {
     "data": {
      "text/plain": [
       "<AxesSubplot:>"
      ]
     },
     "execution_count": 31,
     "metadata": {},
     "output_type": "execute_result"
    },
    {
     "data": {
      "image/png": "[encoded data removed]",
      "text/plain": [
       "<Figure size 432x288 with 2 Axes>"
      ]
     },
     "metadata": {
      "needs_background": "light"
     },
     "output_type": "display_data"
    }
   ],
   "source": [
    "# 5- ¿Qué tipo de correlación matemática encuentras entre las métricas públicas?\n",
    "\n",
    "df.head()\n",
    "\n",
    "df.corr()\n",
    "\n",
    "sns.heatmap(df.corr(), annot=True) \n",
    "\n",
    "#Observamos una correlacion entre las metricas, habiendo la mayor de ellas entre el like_count y el retweet count de 0.69"
   ]
  }
 ],
 "metadata": {
  "kernelspec": {
   "display_name": "Python 3.8.13 ('twitter_env')",
   "language": "python",
   "name": "python3"
  },
  "language_info": {
   "codemirror_mode": {
    "name": "ipython",
    "version": 3
   },
   "file_extension": ".py",
   "mimetype": "text/x-python",
   "name": "python",
   "nbconvert_exporter": "python",
   "pygments_lexer": "ipython3",
   "version": "3.8.13"
  },
  "orig_nbformat": 4,
  "vscode": {
   "interpreter": {
    "hash": "e14447bf59a3b67b72f92d667bfb1b4f9868c2753ac8d1ccf9679e0538205f16"
   }
  }
 },
 "nbformat": 4,
 "nbformat_minor": 2
}
